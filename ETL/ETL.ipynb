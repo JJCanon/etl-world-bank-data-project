{
 "cells": [
  {
   "cell_type": "code",
   "execution_count": 1,
   "id": "3140fd71",
   "metadata": {},
   "outputs": [],
   "source": [
    "# Libraries\n",
    "import pandas as pd\n",
    "import numpy as np\n",
    "from sqlalchemy import create_engine,text\n",
    "import os\n",
    "import psycopg2"
   ]
  },
  {
   "cell_type": "markdown",
   "id": "79d29f49",
   "metadata": {},
   "source": [
    "#### Extract"
   ]
  },
  {
   "cell_type": "code",
   "execution_count": null,
   "id": "3ccd54cd",
   "metadata": {},
   "outputs": [],
   "source": [
    "files_path = os.path.join('..','Data/')\n",
    "df_countrydata = pd.read_csv(files_path+'countrydata.csv')\n",
    "df_gdp = pd.read_excel(files_path+'gdp.xls',sheet_name='Data',header=3)\n",
    "df_population = pd.read_excel(files_path+'population.xls',sheet_name='Data',header=3)\n",
    "df_projects = pd.read_excel(files_path+'Projects.xls',sheet_name='World Bank Projects',header=1)\n",
    "df_salesdata = pd.read_csv(files_path+'sales_data_sample.csv', encoding='ISO-8859-1')"
   ]
  },
  {
   "cell_type": "code",
   "execution_count": 4,
   "id": "0012a30c",
   "metadata": {},
   "outputs": [
    {
     "name": "stdout",
     "output_type": "stream",
     "text": [
      "Index(['id', 'regionname', 'countryname', 'projectstatusdisplay',\n",
      "       'project_name', 'pdo', 'impagency', 'cons_serv_reqd_ind', 'url',\n",
      "       'boardapprovaldate', 'closingdate', 'projectfinancialtype',\n",
      "       'curr_project_cost', 'curr_ibrd_commitment', 'curr_ida_commitment',\n",
      "       'curr_total_commitment', 'grantamt', 'borrower', 'lendinginstr',\n",
      "       'envassesmentcategorycode', 'esrc_ovrl_risk_rate', 'sector1', 'sector2',\n",
      "       'sector3', 'theme1', 'theme2', 'Official Country Name', 'Country Code',\n",
      "       'approvalyear', 'approvalday', 'approvalweekday', 'closingyear',\n",
      "       'closingday', 'closingweekday', 'year', 'Year', 'Country Name_x',\n",
      "       'Indicator Name_x', 'Indicator Code_x', 'datetime_x', 'gdp',\n",
      "       'gdp_ffill', 'gdp_bfill', 'gdp_ff_bf', 'Country Name_y',\n",
      "       'Indicator Name_y', 'Indicator Code_y', 'datetime_y', 'population',\n",
      "       'population_filled', 'population_ffill', 'population_bfill',\n",
      "       'population_ff_bf'],\n",
      "      dtype='object')\n",
      "Index(['Country Name', 'Country Code', 'Indicator Name', 'Indicator Code',\n",
      "       '1960', '1961', '1962', '1963', '1964', '1965', '1966', '1967', '1968',\n",
      "       '1969', '1970', '1971', '1972', '1973', '1974', '1975', '1976', '1977',\n",
      "       '1978', '1979', '1980', '1981', '1982', '1983', '1984', '1985', '1986',\n",
      "       '1987', '1988', '1989', '1990', '1991', '1992', '1993', '1994', '1995',\n",
      "       '1996', '1997', '1998', '1999', '2000', '2001', '2002', '2003', '2004',\n",
      "       '2005', '2006', '2007', '2008', '2009', '2010', '2011', '2012', '2013',\n",
      "       '2014', '2015', '2016', '2017', '2018', '2019', '2020'],\n",
      "      dtype='object')\n",
      "Index(['Country Name', 'Country Code', 'Indicator Name', 'Indicator Code',\n",
      "       '1960', '1961', '1962', '1963', '1964', '1965', '1966', '1967', '1968',\n",
      "       '1969', '1970', '1971', '1972', '1973', '1974', '1975', '1976', '1977',\n",
      "       '1978', '1979', '1980', '1981', '1982', '1983', '1984', '1985', '1986',\n",
      "       '1987', '1988', '1989', '1990', '1991', '1992', '1993', '1994', '1995',\n",
      "       '1996', '1997', '1998', '1999', '2000', '2001', '2002', '2003', '2004',\n",
      "       '2005', '2006', '2007', '2008', '2009', '2010', '2011', '2012', '2013',\n",
      "       '2014', '2015', '2016', '2017', '2018', '2019', '2020'],\n",
      "      dtype='object')\n",
      "Index(['Project ID', 'Region', 'Country', 'Project Status', 'Project Name',\n",
      "       'Project Development Objective ', 'Implementing Agency',\n",
      "       'Consultant Services Required', 'Project URL', 'Board Approval Date',\n",
      "       'Project Closing Date', 'Financing Type', 'Current Project Cost',\n",
      "       'IBRD Commitment ', 'IDA Commitment', 'Total IDA and IBRD Commitment',\n",
      "       'Grant Amount', 'Borrower', 'Lending Instrument',\n",
      "       'Environmental Assessment Category', 'Environmental and Social Risk',\n",
      "       'Sector 1', 'Sector 2', 'Sector 3', 'Theme 1', 'Theme 2'],\n",
      "      dtype='object')\n",
      "Index(['ORDERNUMBER', 'QUANTITYORDERED', 'PRICEEACH', 'ORDERLINENUMBER',\n",
      "       'SALES', 'ORDERDATE', 'STATUS', 'QTR_ID', 'MONTH_ID', 'YEAR_ID',\n",
      "       'PRODUCTLINE', 'MSRP', 'PRODUCTCODE', 'CUSTOMERNAME', 'PHONE',\n",
      "       'ADDRESSLINE1', 'ADDRESSLINE2', 'CITY', 'STATE', 'POSTALCODE',\n",
      "       'COUNTRY', 'TERRITORY', 'CONTACTLASTNAME', 'CONTACTFIRSTNAME',\n",
      "       'DEALSIZE'],\n",
      "      dtype='object')\n"
     ]
    }
   ],
   "source": [
    "print(df_countrydata.keys())\n",
    "print(df_gdp.keys())\n",
    "print(df_population.keys())\n",
    "print(df_projects.keys())\n",
    "print(df_salesdata.keys())"
   ]
  },
  {
   "cell_type": "markdown",
   "id": "26b9ff27",
   "metadata": {},
   "source": [
    "#### Transform"
   ]
  },
  {
   "cell_type": "code",
   "execution_count": null,
   "id": "ac775065",
   "metadata": {},
   "outputs": [],
   "source": []
  },
  {
   "cell_type": "markdown",
   "id": "5c0b28da",
   "metadata": {},
   "source": [
    "#### Load"
   ]
  },
  {
   "cell_type": "code",
   "execution_count": null,
   "id": "bbedd1c6",
   "metadata": {},
   "outputs": [],
   "source": []
  }
 ],
 "metadata": {
  "kernelspec": {
   "display_name": "Data_Science",
   "language": "python",
   "name": "python3"
  },
  "language_info": {
   "codemirror_mode": {
    "name": "ipython",
    "version": 3
   },
   "file_extension": ".py",
   "mimetype": "text/x-python",
   "name": "python",
   "nbconvert_exporter": "python",
   "pygments_lexer": "ipython3",
   "version": "3.13.5"
  }
 },
 "nbformat": 4,
 "nbformat_minor": 5
}
